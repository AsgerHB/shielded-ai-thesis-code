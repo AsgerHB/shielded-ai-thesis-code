{
 "cells": [
  {
   "cell_type": "code",
   "execution_count": 19,
   "id": "vital-motorcycle",
   "metadata": {},
   "outputs": [],
   "source": [
    "import math\n",
    "from numbers import Number\n",
    "from matplotlib import pyplot as plt"
   ]
  },
  {
   "cell_type": "code",
   "execution_count": 14,
   "id": "excess-clone",
   "metadata": {},
   "outputs": [],
   "source": [
    "g = -9.81"
   ]
  },
  {
   "cell_type": "code",
   "execution_count": 15,
   "id": "involved-symposium",
   "metadata": {},
   "outputs": [],
   "source": [
    "minimum_E_mek = 54.3113\n",
    "\n",
    "def E_kin(v):  # Assuming mass of the ball is 1\n",
    "    return 0.5*abs(v)**2\n",
    "\n",
    "def E_pot(p):\n",
    "    return abs(g)*p\n",
    "\n",
    "def E_mek(v, p):\n",
    "    return E_kin(v) + E_pot(p)"
   ]
  },
  {
   "cell_type": "code",
   "execution_count": 16,
   "id": "treated-alfred",
   "metadata": {},
   "outputs": [
    {
     "data": {
      "text/plain": [
       "47.24"
      ]
     },
     "execution_count": 16,
     "metadata": {},
     "output_type": "execute_result"
    }
   ],
   "source": [
    "E_mek(-4, 4)"
   ]
  },
  {
   "cell_type": "code",
   "execution_count": 17,
   "id": "phantom-television",
   "metadata": {},
   "outputs": [],
   "source": [
    "def simulate_exact(v: Number, p: Number, bounce1: Number, bounce2: Number, Δt: Number, g:Number, hit=False) -> (Number, Number): \n",
    "    \"\"\"Simulates the ball with a specific velocity v and position p. \n",
    "    Parameters:\n",
    "        v: velocity\n",
    "        p: height\n",
    "        bounce1: fraction of velocity preserved when it bounces\n",
    "        bounce2: fraction of velocity preserved when its hit by the bat\n",
    "        Δt: timestep\n",
    "        hit: The action. Whether or not to attempt to hit the ball.\n",
    "    Returns:\n",
    "        (v, p): new v and p after timestep Δt\"\"\"\n",
    "    new_v, new_p = None, None  # Result\n",
    "    v0, p0 = v, p              # To avoid changing argument values\n",
    "    \n",
    "    if hit and p >= 4: # Hitting the ball changes the velocity\n",
    "        if v < 0: \n",
    "            v0 = min(v, -4)\n",
    "        else:\n",
    "            v0 = -bounce2*v - 4\n",
    "    \n",
    "    # Free fall\n",
    "    new_v = g * Δt + v0\n",
    "    new_p = 0.5 * g * Δt**2 + v0 * Δt + p0\n",
    "    \n",
    "    \n",
    "    if new_p <= 0: # Hitting the ground\n",
    "        # Need to establish the exact time t it hits the ground:  0 = 0.5 * g * t**2 + v0 * t + p0\n",
    "        # This type of equation can have two soutions: t  = (-v0 ± sqrt(v0**2 - 2*g*p0))/g\n",
    "        #     t1 = (-v0 + sqrt(v0**2 - 2*g*p0))/g\n",
    "        #     t2 = (-v0 - sqrt(v0**2 - 2*g*p0))/g \n",
    "        # In this case, t2 is always the solution. \n",
    "        # Proof: t must be positive since the impact occured this timestep.\n",
    "        #        p0 >= 0 and g < 0 therefore -2*g*p0 >= 0\n",
    "        #        So therefore abs(v0) <= sqrt(v0**2 - 2*g*p0)\n",
    "        #        And the ball must have a negative velocity v0 < 0 to hit the ground\n",
    "        #        So that (-v0 - sqrt(v0**2 - 2*g*p0)) < 0\n",
    "        #        And divided by g which is also negative we have that \n",
    "        #        (-v0 - sqrt(v0**2 - 2*g*p0))/g > 0\n",
    "        \n",
    "\n",
    "        #print(f\"v0 = {v0:.2f}\\tp0 = {p0:.2f}\\tt1 = {t1:.2f}\\tt2 = {t2:.2f}\\tnew_p = {new_p:.2f}\")\n",
    "        #print(f\"discriminant = v0**2 - 2*g*p0 = {discriminant:.2f}\")\n",
    "        #print(f\"t1 = (-v0 + math.sqrt(v0**2 - 2*g*p0))/g = ({-v0:.2f} + {math.sqrt(v0**2 - 2*g*p0):.2f})/{g:.2f} = {t1:.2f}\")\n",
    "        #print(f\"t2 = (-v0 - math.sqrt(v0**2 - 2*g*p0))/g = ({-v0:.2f} - {math.sqrt(v0**2 - 2*g*p0):.2f})/{g:.2f} = {t2:.2f}\")\n",
    "        #print()\n",
    "        t_impact = (-v0 - math.sqrt(v0**2 - 2*g*p0))/g \n",
    "        t_remaining = Δt - t_impact       # Time left this timestep after bounce occurs\n",
    "        \n",
    "        new_v = g * t_impact + v0         # Gravity pull before bounce\n",
    "        \n",
    "        new_v = -bounce1 * new_v          # Bounce\n",
    "        \n",
    "        new_v = g * t_remaining + new_v   # Gravity pull after bounce\n",
    "        new_p = 0.5 * g * t_remaining**2 + new_v * t_remaining + 0  # Jump height after bounce\n",
    "        if new_p <= 0:           # If it hits the ground twice within the same timestep, \n",
    "            new_v, new_p = 0, 0  # simply put the ball to a stop.\n",
    "    \n",
    "    return new_v, new_p"
   ]
  },
  {
   "cell_type": "code",
   "execution_count": 43,
   "id": "rising-nothing",
   "metadata": {},
   "outputs": [
    {
     "data": {
      "text/plain": [
       "[<matplotlib.lines.Line2D at 0x7fe986ea33d0>]"
      ]
     },
     "execution_count": 43,
     "metadata": {},
     "output_type": "execute_result"
    },
    {
     "data": {
      "image/png": "[encoded data removed]",
      "text/plain": [
       "<Figure size 432x288 with 1 Axes>"
      ]
     },
     "metadata": {
      "needs_background": "light"
     },
     "output_type": "display_data"
    }
   ],
   "source": [
    "v, p = -7, 3.9\n",
    "bounce1, bounce2 = 0.85, 0.9\n",
    "Δt = 0.01\n",
    "\n",
    "def simulate_many(v0, p0, bounce1, bounce2, Δt, g, time):\n",
    "    velocities, positions, times = [v0], [p0], [0]\n",
    "    v, p = v0, p0\n",
    "    \n",
    "    for i in range(1, int(time/Δt)):\n",
    "        v, p = simulate_exact(v, p, bounce1, bounce2, Δt, g, hit=True)\n",
    "        velocities.append(v)\n",
    "        positions.append(p)\n",
    "        times.append(i*Δt)\n",
    "    return velocities, positions, times\n",
    "    \n",
    "    \n",
    "velocities, positions, times = simulate_many(v, p, bounce1, bounce2, Δt, g, 5)\n",
    "\n",
    "plt.plot(times, positions)"
   ]
  },
  {
   "cell_type": "code",
   "execution_count": null,
   "id": "quarterly-cooperative",
   "metadata": {},
   "outputs": [],
   "source": []
  }
 ],
 "metadata": {
  "kernelspec": {
   "display_name": "Python 3",
   "language": "python",
   "name": "python3"
  },
  "language_info": {
   "codemirror_mode": {
    "name": "ipython",
    "version": 3
   },
   "file_extension": ".py",
   "mimetype": "text/x-python",
   "name": "python",
   "nbconvert_exporter": "python",
   "pygments_lexer": "ipython3",
   "version": "3.8.10"
  }
 },
 "nbformat": 4,
 "nbformat_minor": 5
}
