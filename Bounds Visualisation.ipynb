{
 "cells": [
  {
   "cell_type": "code",
   "execution_count": 1,
   "metadata": {},
   "outputs": [],
   "source": [
    "import random\n",
    "import math\n",
    "from numbers  import Number\n",
    "from matplotlib import pyplot as plt\n",
    "from matplotlib import cm\n",
    "from matplotlib import colors as pltcolors\n",
    "import matplotlib.patches as mpatches\n",
    "import numpy as np"
   ]
  },
  {
   "cell_type": "code",
   "execution_count": 2,
   "metadata": {},
   "outputs": [],
   "source": [
    "def simulate_exact(v: Number, p: Number, bounce1: Number, bounce2: Number, Δt: Number, g:Number, hit=False) -> (Number, Number): \n",
    "    \"\"\"Simulates the ball with a specific velocity v and position p. \n",
    "    Parameters:\n",
    "        v: velocity\n",
    "        p: height\n",
    "        bounce1: fraction of velocity preserved when it bounces\n",
    "        bounce2: fraction of velocity preserved when its hit by the bat\n",
    "        Δt: timestep\n",
    "        hit: The action. Whether or not to attempt to hit the ball.\n",
    "    Returns:\n",
    "        (v, p): new v and p after timestep Δt\"\"\"\n",
    "    new_v, new_p = None, None  # Result\n",
    "    v0, p0 = v, p              # To avoid changing argument values\n",
    "    \n",
    "    if hit and p >= 4: # Hitting the ball changes the velocity\n",
    "        if v < 0: \n",
    "            v0 = min(v, -4)\n",
    "        else:\n",
    "            v0 = -bounce2*v - 4\n",
    "    \n",
    "    # Free fall\n",
    "    new_v = g * Δt + v0\n",
    "    new_p = 0.5 * g * Δt**2 + v0 * Δt + p0\n",
    "    \n",
    "    \n",
    "    if new_p <= 0: # Hitting the ground\n",
    "        # Need to establish the exact time t it hits the ground:  0 = 0.5 * g * t**2 + v0 * t + p0\n",
    "        # This type of equation can have two soutions: t  = (-v0 ± sqrt(v0**2 - 2*g*p0))/g\n",
    "        #     t1 = (-v0 + sqrt(v0**2 - 2*g*p0))/g\n",
    "        #     t2 = (-v0 - sqrt(v0**2 - 2*g*p0))/g \n",
    "        # In this case, t2 is always the solution. \n",
    "        # Proof: t must be positive since the impact occured this timestep.\n",
    "        #        p0 >= 0 and g < 0 therefore -2*g*p0 >= 0\n",
    "        #        So therefore abs(v0) <= sqrt(v0**2 - 2*g*p0)\n",
    "        #        And the ball must have a negative velocity v0 < 0 to hit the ground\n",
    "        #        So that (-v0 - sqrt(v0**2 - 2*g*p0)) < 0\n",
    "        #        And divided by g which is also negative we have that \n",
    "        #        (-v0 - sqrt(v0**2 - 2*g*p0))/g > 0\n",
    "        \n",
    "\n",
    "        #print(f\"v0 = {v0:.2f}\\tp0 = {p0:.2f}\\tt1 = {t1:.2f}\\tt2 = {t2:.2f}\\tnew_p = {new_p:.2f}\")\n",
    "        #print(f\"discriminant = v0**2 - 2*g*p0 = {discriminant:.2f}\")\n",
    "        #print(f\"t1 = (-v0 + math.sqrt(v0**2 - 2*g*p0))/g = ({-v0:.2f} + {math.sqrt(v0**2 - 2*g*p0):.2f})/{g:.2f} = {t1:.2f}\")\n",
    "        #print(f\"t2 = (-v0 - math.sqrt(v0**2 - 2*g*p0))/g = ({-v0:.2f} - {math.sqrt(v0**2 - 2*g*p0):.2f})/{g:.2f} = {t2:.2f}\")\n",
    "        #print()\n",
    "        t_impact = (-v0 - math.sqrt(v0**2 - 2*g*p0))/g \n",
    "        t_remaining = Δt - t_impact       # Time left this timestep after bounce occurs\n",
    "        \n",
    "        new_v = g * t_impact + v0         # Gravity pull before bounce\n",
    "        \n",
    "        new_v = -bounce1 * new_v          # Bounce\n",
    "        \n",
    "        new_v = g * t_remaining + new_v   # Gravity pull after bounce\n",
    "        new_p = 0.5 * g * t_remaining**2 + new_v * t_remaining + 0  # Jump height after bounce\n",
    "        if new_p <= 0:           # If it hits the ground twice within the same timestep, \n",
    "            new_v, new_p = 0, 0  # simply put the ball to a stop.\n",
    "    \n",
    "    return new_v, new_p"
   ]
  },
  {
   "cell_type": "markdown",
   "metadata": {},
   "source": [
    "## Constraints on q, u values directly"
   ]
  },
  {
   "cell_type": "code",
   "execution_count": 3,
   "metadata": {},
   "outputs": [],
   "source": [
    "#   Jvl <= u  < Jvu\n",
    "#   Jpl <= q  < Jpu\n",
    "#   Ivl + g * t <= u < Ivu + g * t\n",
    "#   q >= Ipl + Ivl*t + 1/2 * g * t**2\n",
    "#   Ipu + Ivu*t + 1/2 * g * t**2 > q \n",
    "#   Ipl - 1/2 * g * t**2 <= -u*t + q < Ipu - 1/2 * g * t**2"
   ]
  },
  {
   "cell_type": "code",
   "execution_count": 4,
   "metadata": {
    "scrolled": false
   },
   "outputs": [
    {
     "data": {
      "image/png": "[encoded data removed]",
      "text/plain": [
       "<Figure size 720x720 with 1 Axes>"
      ]
     },
     "metadata": {
      "needs_background": "light"
     },
     "output_type": "display_data"
    }
   ],
   "source": [
    "G = 1\n",
    "g = 9.81\n",
    "t = 0.3\n",
    "\n",
    "Ivl = 1\n",
    "Ipl = 1\n",
    "Ivu, Ipu = Ivl + G, Ipl + G\n",
    "\n",
    "granularity_x = 1000\n",
    "granularity_y = 1000\n",
    "x_min, x_max = 0, 7\n",
    "y_min, y_max = 0, 7\n",
    "\n",
    "scale_x = (x_max - x_min)/granularity_x\n",
    "scale_y = (y_max - y_min)/granularity_y\n",
    "\n",
    "grid = np.zeros((granularity_x, granularity_y))\n",
    "\n",
    "\n",
    "for i, row in enumerate(grid):\n",
    "    for j, _ in enumerate(row):\n",
    "        u, q = j*scale_x + x_min, i*scale_y + y_min\n",
    "        if (    Ivl + g * t <= u < Ivu + g * t and\n",
    "                q >= Ipl + Ivl*t + 1/2 * g * t**2 and\n",
    "                Ipu + Ivu*t + 1/2 * g * t**2 > q):\n",
    "            grid[i][j] = 3\n",
    "            \n",
    "        if (    Ivl + g * t <= u < Ivu + g * t and\n",
    "                q >= Ipl + Ivl*t + 1/2 * g * t**2 and\n",
    "                Ipu + Ivu*t + 1/2 * g * t**2 > q and\n",
    "                Ipl - 1/2 * g * t**2 <= -u*t + q < Ipu - 1/2 * g * t**2):\n",
    "            grid[i][j] = 2\n",
    "            \n",
    "        if (    u > Ivl and u < Ivu and \n",
    "                q > Ipl and q < Ipu):\n",
    "            grid[i][j] = 1\n",
    "\n",
    "\n",
    "\n",
    "\n",
    "\n",
    "# I hate matplotlib\n",
    "\n",
    "f = plt.figure()\n",
    "f.set_figwidth(10)\n",
    "f.set_figheight(10)\n",
    "\n",
    "ax = plt.gca()\n",
    "\n",
    "ax.xaxis.set_ticks(np.arange(x_min, x_max+1, G))\n",
    "ax.yaxis.set_ticks(np.arange(y_min, y_max+1, G))\n",
    "\n",
    "cmap = pltcolors.ListedColormap([\"white\", \"#9fb5d2\", \"#a1c7a1\", \"#d3ffd3\"])\n",
    "\n",
    "image = plt.imshow(grid, origin=\"lower\", extent=(x_min, x_max, y_min, y_max), cmap=cmap)\n",
    "\n",
    "# Convoluted way to print a legend.\n",
    "values = np.unique(grid.ravel())\n",
    "labels = [\"\", \"Initial Square\", \"Area described by bounds\", \"Area without the last bound\"]\n",
    "colors = [ image.cmap(image.norm(value)) for value in values]\n",
    "plt.legend(handles=[mpatches.Patch(color=colors[x], label=f\"{labels[x]}\") for x in range(len(values))])\n",
    "\n",
    "plt.grid(color='grey', linestyle='-', linewidth=1, which=\"both\")\n",
    "\n",
    "\n",
    "for i, j in [(0,0), (1,0), (1,1), (0,1)]:\n",
    "    example_v, example_p = Ivl + G*i, Ipl + G*j\n",
    "    example_u, example_q = simulate_exact(example_v, example_p, 0, 0, t, g, False)\n",
    "\n",
    "    plt.plot([example_v, example_u], [example_p, example_q], color=\"black\")\n",
    "    plt.scatter([example_v], [example_p], marker=\"o\", color=\"black\")\n",
    "plt.show()"
   ]
  },
  {
   "cell_type": "markdown",
   "metadata": {},
   "source": [
    "## Trying to visualise the shape of the projection"
   ]
  },
  {
   "cell_type": "code",
   "execution_count": 39,
   "metadata": {
    "scrolled": false
   },
   "outputs": [
    {
     "data": {
      "image/png": "[encoded data removed]",
      "text/plain": [
       "<Figure size 720x720 with 1 Axes>"
      ]
     },
     "metadata": {
      "needs_background": "light"
     },
     "output_type": "display_data"
    }
   ],
   "source": [
    "G = 1\n",
    "g = 9.81\n",
    "t = 0.3\n",
    "\n",
    "Ivl = 1\n",
    "Ipl = 1\n",
    "Ivu, Ipu = Ivl + G, Ipl + G\n",
    "\n",
    "granularity_x = 1000\n",
    "granularity_y = 1000\n",
    "x_min, x_max = 0, 7\n",
    "y_min, y_max = 0, 7\n",
    "\n",
    "scale_x = (x_max - x_min)/granularity_x\n",
    "scale_y = (y_max - y_min)/granularity_y\n",
    "\n",
    "grid = np.zeros((granularity_x, granularity_y))\n",
    "acc=0\n",
    "\n",
    "for i, row in enumerate(grid):\n",
    "    for j, _ in enumerate(row):\n",
    "        grid[i][j] = np.NaN\n",
    "\n",
    "for i, row in enumerate(grid):\n",
    "    for j, _ in enumerate(row):\n",
    "        v, p = j*scale_x + x_min, i*scale_y + y_min\n",
    "        if (Ivl <= v < Ivu and Ipl <= p < Ipu):\n",
    "            grid[i][j] = acc\n",
    "            \n",
    "            w, q = simulate_exact(v, p, 0.85, 0.90, t, g, False)\n",
    "            ii, jj = int(q/scale_x - x_min), int(w/scale_y - y_min)\n",
    "            grid[ii][jj] = acc\n",
    "            \n",
    "            acc += 1\n",
    "\n",
    "\n",
    "# I hate matplotlib\n",
    "\n",
    "f = plt.figure()\n",
    "f.set_figwidth(10)\n",
    "f.set_figheight(10)\n",
    "\n",
    "ax = plt.gca()\n",
    "\n",
    "ax.xaxis.set_ticks(np.arange(x_min, x_max+1, G))\n",
    "ax.yaxis.set_ticks(np.arange(y_min, y_max+1, G))\n",
    "\n",
    "cmap = plt.get_cmap(\"viridis\")\n",
    "\n",
    "image = plt.imshow(grid, origin=\"lower\", extent=(x_min, x_max, y_min, y_max), cmap=cmap)\n",
    "\n",
    "plt.grid(color='grey', linestyle='-', linewidth=1, which=\"both\")\n",
    "\n",
    "\n",
    "for i, j in [(0,0), (1,0), (1,1), (0,1)]:\n",
    "    example_v, example_p = Ivl + G*i, Ipl + G*j\n",
    "    example_u, example_q = simulate_exact(example_v, example_p, 0, 0, t, g, False)\n",
    "\n",
    "    plt.plot([example_v, example_u], [example_p, example_q], color=\"black\")\n",
    "    plt.scatter([example_v], [example_p], marker=\"o\", color=\"black\")\n",
    "plt.show()"
   ]
  },
  {
   "cell_type": "code",
   "execution_count": 23,
   "metadata": {
    "scrolled": false
   },
   "outputs": [
    {
     "data": {
      "image/png": "[encoded data removed]",
      "text/plain": [
       "<Figure size 720x720 with 1 Axes>"
      ]
     },
     "metadata": {
      "needs_background": "light"
     },
     "output_type": "display_data"
    }
   ],
   "source": [
    "# For when the ball bounce\n",
    "\n",
    "G = 1\n",
    "g = -9.81\n",
    "t = 0.3\n",
    "\n",
    "Ivl = -4\n",
    "Ipl = 1\n",
    "Ivu, Ipu = Ivl + G, Ipl + G\n",
    "\n",
    "granularity_x = 1000\n",
    "granularity_y = 1000\n",
    "x_min, x_max = -5, 0\n",
    "y_min, y_max = 0, 5\n",
    "\n",
    "scale_x = (x_max - x_min)/granularity_x\n",
    "scale_y = (y_max - y_min)/granularity_y\n",
    "\n",
    "grid = np.zeros((granularity_x, granularity_y))\n",
    "\n",
    "\n",
    "for i, row in enumerate(grid):\n",
    "    for j, _ in enumerate(row):\n",
    "        grid[i][j] = np.NaN\n",
    "\n",
    "for i, row in enumerate(grid):\n",
    "    for j, _ in enumerate(row):\n",
    "        v, p = j*scale_x + x_min, i*scale_y + y_min\n",
    "        if (Ivl <= v < Ivu and Ipl <= p < Ipu):\n",
    "            grid[i][j] = 1\n",
    "            \n",
    "            w, q = simulate_exact(v, p, 0, 0, t, g, False)\n",
    "            \n",
    "            if (w, q) == (0 ,0):\n",
    "                grid[i][j] = 2\n",
    "\n",
    "\n",
    "# I hate matplotlib\n",
    "\n",
    "f = plt.figure()\n",
    "f.set_figwidth(10)\n",
    "f.set_figheight(10)\n",
    "\n",
    "ax = plt.gca()\n",
    "\n",
    "ax.xaxis.set_ticks(np.arange(x_min, x_max+1, G))\n",
    "ax.yaxis.set_ticks(np.arange(y_min, y_max+1, G))\n",
    "\n",
    "cmap = plt.get_cmap(\"viridis\")\n",
    "\n",
    "image = plt.imshow(grid, origin=\"lower\", extent=(x_min, x_max, y_min, y_max), cmap=cmap)\n",
    "\n",
    "plt.grid(color='grey', linestyle='-', linewidth=1, which=\"both\")\n",
    "\n",
    "plt.show()"
   ]
  },
  {
   "cell_type": "code",
   "execution_count": 36,
   "metadata": {},
   "outputs": [
    {
     "data": {
      "image/png": "[encoded data removed]",
      "text/plain": [
       "<Figure size 720x720 with 1 Axes>"
      ]
     },
     "metadata": {
      "needs_background": "light"
     },
     "output_type": "display_data"
    }
   ],
   "source": [
    "G = 1\n",
    "g = -9.81\n",
    "t = 0.3\n",
    "\n",
    "Ivl = -4\n",
    "Ipl = 1\n",
    "Ivu, Ipu = Ivl + G, Ipl + G\n",
    "\n",
    "granularity_x = 1000\n",
    "granularity_y = 1000\n",
    "x_min, x_max = -10, 10\n",
    "y_min, y_max = 0, 20\n",
    "\n",
    "scale_x = (x_max - x_min)/granularity_x\n",
    "scale_y = (y_max - y_min)/granularity_y\n",
    "\n",
    "grid = np.zeros((granularity_x, granularity_y))\n",
    "acc=0\n",
    "\n",
    "for i, row in enumerate(grid):\n",
    "    for j, _ in enumerate(row):\n",
    "        grid[i][j] = np.NaN\n",
    "\n",
    "for i, row in enumerate(grid):\n",
    "    for j, _ in enumerate(row):\n",
    "        v, p = j*scale_x + x_min, i*scale_y + y_min\n",
    "        if (Ivl <= v < Ivu and Ipl <= p < Ipu):\n",
    "            grid[i][j] = acc\n",
    "            \n",
    "            w, q = simulate_exact(v, p, 0.85, 0.90, t, g, False)\n",
    "            ii, jj = int(q/scale_x - x_min), int(w/scale_y - y_min)\n",
    "            grid[ii][jj] = acc\n",
    "            \n",
    "            acc += 1\n",
    "\n",
    "\n",
    "# I hate matplotlib\n",
    "\n",
    "f = plt.figure()\n",
    "f.set_figwidth(10)\n",
    "f.set_figheight(10)\n",
    "\n",
    "ax = plt.gca()\n",
    "\n",
    "ax.xaxis.set_ticks(np.arange(x_min, x_max+1, G))\n",
    "ax.yaxis.set_ticks(np.arange(y_min, y_max+1, G))\n",
    "\n",
    "cmap = plt.get_cmap(\"viridis\")\n",
    "\n",
    "image = plt.imshow(grid, origin=\"lower\", extent=(x_min, x_max, y_min, y_max), cmap=cmap)\n",
    "\n",
    "plt.grid(color='grey', linestyle='-', linewidth=1, which=\"both\")\n",
    "\n",
    "for i, j in [(0,0), (1,0), (1,1), (0,1)]:\n",
    "    example_v, example_p = Ivl + G*i, Ipl + G*j\n",
    "    example_u, example_q = simulate_exact(example_v, example_p, 0.85, 0.90, t, g, False)\n",
    "\n",
    "    plt.plot([example_v, example_u], [example_p, example_q], color=\"black\")\n",
    "    plt.scatter([example_v], [example_p], marker=\"o\", color=\"black\")\n",
    "plt.show()"
   ]
  },
  {
   "cell_type": "markdown",
   "metadata": {},
   "source": [
    "## Constraints on a and b values"
   ]
  },
  {
   "cell_type": "code",
   "execution_count": null,
   "metadata": {},
   "outputs": [],
   "source": [
    "#a*t + t - b > (1/2 * g * t^2) / G - d - 1\n",
    "#a*t - b <  - (1/2 * g * t^2) / G - d - 1\n",
    "#b < 2 + (1/2 * g * t^2) / G + c + d\n",
    "#b > - 1 - (1/2 * g * t^2) / G + c*t + d\n",
    "#a < c + 1 + (g * t) / G\n",
    "#a > - 1 + c + (g * t)/G"
   ]
  },
  {
   "cell_type": "code",
   "execution_count": null,
   "metadata": {},
   "outputs": [],
   "source": [
    "c = Ivl / G\n",
    "d = Ipl / G"
   ]
  },
  {
   "cell_type": "code",
   "execution_count": null,
   "metadata": {},
   "outputs": [],
   "source": [
    "print(\"a*t + t - b > (1/2 * g * t^2) / G - d - 1\")\n",
    "print(f\"a*t + t - b > {(1/2 * g * t**2) / G - d - 1}\\n\")\n",
    "\n",
    "print(\"a*t - b <  - (1/2 * g * t^2) / G - d - 1\")\n",
    "print(f\"a*t - b < { - (1/2 * g * t**2) / G - d - 1}\\n\")\n",
    "\n",
    "print(\"b < 2 + (1/2 * g * t^2) / G + c + d\")\n",
    "print(f\"b < {2 + (1/2 * g * t**2) / G + c + d}\\n\")\n",
    "\n",
    "print(\"b > - 1 - (1/2 * g * t^2) / G + c*t + d\")\n",
    "print(f\"b > { - 1 - (1/2 * g * t**2) / G + c*t + d}\\n\")\n",
    "\n",
    "print(\"a < c + 1 + (g * t) / G\")\n",
    "print(f\"a < { c + 1 + (g * t) / G}\\n\")\n",
    "\n",
    "print(\"a > - 1 + c + (g * t)/G\")\n",
    "print(f\"a > {- 1 + c + (g * t)/G}\\n\")"
   ]
  }
 ],
 "metadata": {
  "kernelspec": {
   "display_name": "Python 3",
   "language": "python",
   "name": "python3"
  },
  "language_info": {
   "codemirror_mode": {
    "name": "ipython",
    "version": 3
   },
   "file_extension": ".py",
   "mimetype": "text/x-python",
   "name": "python",
   "nbconvert_exporter": "python",
   "pygments_lexer": "ipython3",
   "version": "3.8.10"
  }
 },
 "nbformat": 4,
 "nbformat_minor": 2
}
