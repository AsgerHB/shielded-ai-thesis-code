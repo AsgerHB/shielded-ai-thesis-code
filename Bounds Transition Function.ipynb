{
 "cells": [
  {
   "cell_type": "code",
   "execution_count": 1,
   "metadata": {},
   "outputs": [],
   "source": [
    "import math\n",
    "import random\n",
    "from IPython.display import clear_output\n",
    "from numbers  import Number\n",
    "from matplotlib import pyplot as plt\n",
    "from matplotlib import colors as pltcolors\n",
    "import matplotlib.patches as mpatches\n",
    "from matplotlib.ticker import MultipleLocator\n",
    "import numpy as np"
   ]
  },
  {
   "cell_type": "code",
   "execution_count": 2,
   "metadata": {},
   "outputs": [],
   "source": [
    "def simulate_exact(v: Number, p: Number, bounce1: Number, bounce2: Number, Δt: Number, g:Number, hit=False) -> (Number, Number): \n",
    "    \"\"\"Simulates the ball with a specific velocity v and position p. \n",
    "    Parameters:\n",
    "        v: velocity\n",
    "        p: height\n",
    "        bounce1: fraction of velocity preserved when it bounces\n",
    "        bounce2: fraction of velocity preserved when its hit by the bat\n",
    "        Δt: timestep\n",
    "        hit: The action. Whether or not to attempt to hit the ball.\n",
    "    Returns:\n",
    "        (v, p): new v and p after timestep Δt\"\"\"\n",
    "    new_v, new_p = None, None  # Result\n",
    "    v0, p0 = v, p              # To avoid changing argument values\n",
    "    \n",
    "    if hit and p >= 4: # Hitting the ball changes the velocity\n",
    "        if v < 0: \n",
    "            v0 = min(v, -4)\n",
    "        else:\n",
    "            v0 = -bounce2*v - 4\n",
    "    \n",
    "    # Free fall\n",
    "    new_v = g * Δt + v0\n",
    "    new_p = 0.5 * g * Δt**2 + v0 * Δt + p0\n",
    "    \n",
    "    \n",
    "    if new_p <= 0: # Hitting the ground\n",
    "        # Need to establish the exact time t it hits the ground:  0 = 0.5 * g * t**2 + v0 * t + p0\n",
    "        # This type of equation can have two soutions: t  = (-v0 ± sqrt(v0**2 - 2*g*p0))/g\n",
    "        #     t1 = (-v0 + sqrt(v0**2 - 2*g*p0))/g\n",
    "        #     t2 = (-v0 - sqrt(v0**2 - 2*g*p0))/g \n",
    "        # In this case, t2 is always the solution. \n",
    "        # Proof: t must be positive since the impact occured this timestep.\n",
    "        #        p0 >= 0 and g < 0 therefore -2*g*p0 >= 0\n",
    "        #        So therefore abs(v0) <= sqrt(v0**2 - 2*g*p0)\n",
    "        #        And the ball must have a negative velocity v0 < 0 to hit the ground\n",
    "        #        So that (-v0 - sqrt(v0**2 - 2*g*p0)) < 0\n",
    "        #        And divided by g which is also negative we have that \n",
    "        #        (-v0 - sqrt(v0**2 - 2*g*p0))/g > 0\n",
    "        \n",
    "\n",
    "        #print(f\"v0 = {v0:.2f}\\tp0 = {p0:.2f}\\tt1 = {t1:.2f}\\tt2 = {t2:.2f}\\tnew_p = {new_p:.2f}\")\n",
    "        #print(f\"discriminant = v0**2 - 2*g*p0 = {discriminant:.2f}\")\n",
    "        #print(f\"t1 = (-v0 + math.sqrt(v0**2 - 2*g*p0))/g = ({-v0:.2f} + {math.sqrt(v0**2 - 2*g*p0):.2f})/{g:.2f} = {t1:.2f}\")\n",
    "        #print(f\"t2 = (-v0 - math.sqrt(v0**2 - 2*g*p0))/g = ({-v0:.2f} - {math.sqrt(v0**2 - 2*g*p0):.2f})/{g:.2f} = {t2:.2f}\")\n",
    "        #print()\n",
    "        t_impact = (-v0 - math.sqrt(v0**2 - 2*g*p0))/g \n",
    "        t_remaining = Δt - t_impact       # Time left this timestep after bounce occurs\n",
    "        \n",
    "        new_v = g * t_impact + v0         # Gravity pull before bounce\n",
    "        \n",
    "        new_v = -bounce1 * new_v          # Bounce\n",
    "        \n",
    "        new_v = g * t_remaining + new_v   # Gravity pull after bounce\n",
    "        new_p = 0.5 * g * t_remaining**2 + new_v * t_remaining + 0  # Jump height after bounce\n",
    "        if new_p <= 0:           # If it hits the ground twice within the same timestep, \n",
    "            new_v, new_p = 0, 0  # simply put the ball to a stop.\n",
    "    \n",
    "    return new_v, new_p"
   ]
  },
  {
   "cell_type": "code",
   "execution_count": 3,
   "metadata": {},
   "outputs": [],
   "source": [
    "#   Jvl <= u  < Jvu\n",
    "#   Jpl <= q  < Jpu\n",
    "#   Ivl + g * t <= u < Ivu + g * t\n",
    "#   q >= Ipl + Ivl*t + 1/2 * g * t**2\n",
    "#   Ipu + Ivu*t + 1/2 * g * t**2 > q \n",
    "#   Ipl - 1/2 * g * t**2 <= -u*t + q < Ipu - 1/2 * g * t**2"
   ]
  },
  {
   "cell_type": "code",
   "execution_count": 4,
   "metadata": {},
   "outputs": [],
   "source": [
    "class Grid:\n",
    "    def __init__(self, G, g, v_min, p_min, v_max, p_max):\n",
    "        self.G = G\n",
    "        self.g = g\n",
    "        self.v_min = v_min\n",
    "        self.p_min = p_min\n",
    "        self.v_max = v_max\n",
    "        self.p_max = p_max\n",
    "        self.v_count = int((v_max - v_min)/G)\n",
    "        self.p_count = int((p_max - p_min)/G)\n",
    "        self.array = np.zeros((self.v_count, self.p_count), dtype=np.int8)\n",
    "\n",
    "    def draw(self, grid_color=\"white\", square_types=[(\"lightgreen\", \"Any action\"), (\"lightyellow\", \"Must hit\"), (\"salmon\", \"Bad\")]):\n",
    "        # I hate matplotlib\n",
    "        self.cmap = pltcolors.ListedColormap([c for c, _ in square_types])\n",
    "        self.boundaries = range(0, len(square_types)+1)\n",
    "        self.norm = pltcolors.BoundaryNorm(self.boundaries, self.cmap.N, clip=True)\n",
    "\n",
    "        f = plt.figure()\n",
    "        f.set_figwidth(10)\n",
    "        f.set_figheight(10)\n",
    "        image = plt.imshow(self.array.transpose(), origin=\"lower\", cmap=self.cmap, norm=self.norm, extent=[self.v_min, self.v_max, self.p_min, self.p_max])\n",
    "        \n",
    "        ax = plt.gca()\n",
    "        ax.set_xlabel(\"v\")\n",
    "        ax.set_ylabel(\"p\")\n",
    "        \n",
    "        # Fake grid\n",
    "        plt.vlines(np.arange(self.v_min, self.v_max, self.G), self.p_min, self.p_max, color=grid_color)\n",
    "        plt.hlines(np.arange(self.p_min, self.p_max, self.G), self.v_min, self.v_max, color=grid_color)\n",
    "        \n",
    "        plt.hlines([0], self.v_min, self.v_max, color=\"black\")\n",
    "        \n",
    "        # Legend\n",
    "        values = range(0, len(square_types))\n",
    "        labels = [d for _, d in square_types]\n",
    "        colors = [ image.cmap(image.norm(value)) for value in values]\n",
    "        plt.legend(handles=[mpatches.Patch(color=colors[x], label=f\"{labels[x]}\") for x in range(len(values))])\n",
    "    \n",
    "    def box(self, v, p):\n",
    "        if v < self.v_min or v > self.v_max:\n",
    "            raise IndexError(\"v value out of bounds.\")\n",
    "        if p < self.p_min or p > self.p_max:\n",
    "            raise IndexError(\"p value out of bounds.\")\n",
    "\n",
    "        iv = int((v - self.v_min)/self.G)\n",
    "        ip = int((p - self.p_min)/self.G)\n",
    "        return iv, ip\n",
    "    \n",
    "    def square_within_bounds(self, square):\n",
    "        a, b = square\n",
    "        return 0 <= a < self.v_count and 0 <= b < self.p_count\n",
    "    \n",
    "    def value_within_bounds(self, v, p):\n",
    "        return self.v_min <= v <= self.v_max and self.p_min <= p <= self.p_max\n",
    "    \n",
    "    def bounds(self, square):\n",
    "        iv, ip = square\n",
    "        Ivl, Ipl = self.G * iv + self.v_min, self.G * ip + self.p_min\n",
    "        Ivu, Ipu = self.G * (iv+1) + self.v_min, self.G * (ip+1) + self.p_min\n",
    "        return Ivl, Ivu, Ipl, Ipu\n",
    "    \n",
    "    def transition(self, square, t):\n",
    "        # Find the values c, d. \n",
    "        #The co-ordinate system of the grid is shifted so that its minimum values are 0, 0. \n",
    "        c, d = square        \n",
    "        c, d = int((c + (self.v_min/self.G))), int((d + (self.p_min/self.G)))\n",
    "        \n",
    "        # See Appendix A\n",
    "        # a*t + t - b > (1/2 * g * t^2) / G - d - 1\n",
    "        # a*t - b <   + (1/2 * g * t^2) / G - d + 1\n",
    "        # b < + 1 + (1/2 * g * t^2) / G + c*t + d + t\n",
    "        # b > - 1 + (1/2 * g * t^2) / G + c*t + d\n",
    "        # a < c + 1 + (g * t) / G\n",
    "        # a > - 1 + c + (g * t)/G\n",
    "        \n",
    "        # Calculate strict bounds\n",
    "        b_upper =   1 + (1/2 * self.g * t**2) / self.G + c*t + d + t\n",
    "        b_lower = - 1 + (1/2 * self.g * t**2) / self.G + c*t + d\n",
    "        a_upper = c + 1 + (self.g * t) / self.G\n",
    "        a_lower = - 1 + c + (self.g * t) /self. G\n",
    "        \n",
    "        # Compute the cross product of the two sets that satisfy these bounds\n",
    "        squares = [ (a, b) for \n",
    "            a in range(math.ceil(a_lower), math.floor(a_upper+1)) for \n",
    "            b in range(math.ceil(b_lower), math.floor(b_upper+1))\n",
    "        ]\n",
    "        \n",
    "        length1 = len(squares)\n",
    "        print(squares)\n",
    "        \n",
    "        # Exclude the squares that don't satisfy the co-dependent constraints\n",
    "        squares = [(a, b) for (a, b) in squares if a*t + t - b > (1/2 * self.g * t**2) / self.G - d - 1]\n",
    "        squares = [(a, b) for (a, b) in squares if a*t - b     < (1/2 * self.g * t**2) / self.G - d + 1]\n",
    "        \n",
    "        # Re-align the squares with this grid, so that 0,0 is self.v_min,self.p_min\n",
    "        squares = [(int((a - (self.v_min/self.G))), int((b - (self.p_min/self.G)))) for a, b in squares]\n",
    "        # Exclude squares that are out of bounds\n",
    "        squares = [s for s in squares if self.square_within_bounds(s) ]\n",
    "        \n",
    "        return squares\n",
    "        \n",
    "    def __getitem__(self, item):\n",
    "        return self.array[item]\n",
    "        \n",
    "    def __setitem__(self, item, newvalue):\n",
    "        self.array[item] = newvalue\n",
    "        \n",
    "    def __iter__(self):\n",
    "        self.iter_iv = 0\n",
    "        self.iter_ip = 0\n",
    "        return self\n",
    "    \n",
    "    def __next__(self):\n",
    "        if self.iter_iv >= self.v_count:\n",
    "            if self.iter_ip >= self.p_count - 1:\n",
    "                raise StopIteration\n",
    "            else:\n",
    "                self.iter_iv  = 0\n",
    "                self.iter_ip += 1\n",
    "        \n",
    "        iv, ip = self.iter_iv, self.iter_ip\n",
    "        self.iter_iv += 1\n",
    "        return iv, ip"
   ]
  },
  {
   "cell_type": "code",
   "execution_count": 6,
   "metadata": {},
   "outputs": [
    {
     "name": "stdout",
     "output_type": "stream",
     "text": [
      "example_v, example_p = (-8.262824278664658, 5.102933950531858)\n",
      "example_u, example_q = (-11.205824278664657, 2.1826366669324604)\n",
      "\n",
      "[(-12, 1), (-12, 2), (-12, 3), (-11, 1), (-11, 2), (-11, 3)]\n"
     ]
    },
    {
     "data": {
      "image/png": "[encoded data removed]",
      "text/plain": [
       "<Figure size 720x720 with 1 Axes>"
      ]
     },
     "metadata": {
      "needs_background": "light"
     },
     "output_type": "display_data"
    }
   ],
   "source": [
    "# Show the transition function\n",
    "grid6 = Grid(1, -9.81, -10, 0, 10, 10)\n",
    "\n",
    "t = 0.3\n",
    "\n",
    "example_v, example_p = random.uniform(grid6.v_min, grid6.v_max), random.uniform(grid6.p_min, grid6.p_max)\n",
    "example_u, example_q = simulate_exact(example_v, example_p, 0, 0, t, grid6.g, False)\n",
    "\n",
    "print(f\"example_v, example_p = {example_v, example_p}\")\n",
    "print(f\"example_u, example_q = {example_u, example_q}\\n\")\n",
    "\n",
    "square = grid6.box(example_v, example_p)\n",
    "\n",
    "grid6[square] = 1\n",
    "for s in grid6.transition(square, t):\n",
    "    grid6[s] = 2\n",
    "\n",
    "grid6.draw(grid_color=\"#c0c0c0\", square_types=[(\"white\", \"\"), (\"#c7d2e3\", \"Initial square\"), (\"#c8dcc8\", \"Reachable squares\")])\n",
    "\n",
    "\n",
    "Ivl, Ivu, Ipl, Ipu = grid6.bounds(square)\n",
    "for v, p in [(v, p) for v in [Ivl, Ivu] for p in [Ipl, Ipu]]:\n",
    "    w, q = simulate_exact(v, p, 0.85, 0.90, t, grid6.g, False)\n",
    "    plt.plot([v, w], [p, q], color=\"black\", marker=\"o\")\n",
    "plt.show()"
   ]
  },
  {
   "cell_type": "code",
   "execution_count": 8,
   "metadata": {
    "scrolled": false
   },
   "outputs": [
    {
     "name": "stdout",
     "output_type": "stream",
     "text": [
      "example_v, example_p = (1, 1)\n",
      "example_u, example_q = (3.943, 1.74145)\n",
      "\n",
      "[(3, 1), (3, 2), (3, 3), (4, 1), (4, 2), (4, 3)]\n"
     ]
    },
    {
     "data": {
      "image/png": "[encoded data removed]",
      "text/plain": [
       "<Figure size 720x720 with 1 Axes>"
      ]
     },
     "metadata": {
      "needs_background": "light"
     },
     "output_type": "display_data"
    }
   ],
   "source": [
    "# Draw a figure for the report, showing the transition function in freefall\n",
    "grid5 = Grid(1, 9.81, 0, 0, 7, 7)\n",
    "\n",
    "t = 0.3\n",
    "\n",
    "example_v, example_p = (1,1) #random.uniform(grid5.v_min, grid5.v_max), random.uniform(grid5.p_min, grid5.p_max)\n",
    "example_u, example_q = simulate_exact(example_v, example_p, 0, 0, t, grid5.g, False)\n",
    "\n",
    "print(f\"example_v, example_p = {example_v, example_p}\")\n",
    "print(f\"example_u, example_q = {example_u, example_q}\\n\")\n",
    "\n",
    "square = grid5.box(example_v, example_p)\n",
    "\n",
    "grid5[square] = 1\n",
    "for s in grid5.transition(square, t):\n",
    "    grid5[s] = 2\n",
    "\n",
    "grid5.draw(grid_color=\"#c0c0c0\", square_types=[(\"white\", \"\"), (\"#c7d2e3\", \"Initial square\"), (\"#c8dcc8\", \"Reachable squares\")])\n",
    "\n",
    "\n",
    "Ivl, Ivu, Ipl, Ipu = grid5.bounds(square)\n",
    "for v, p in [(v, p) for v in [Ivl, Ivu] for p in [Ipl, Ipu]]:\n",
    "    w, q = simulate_exact(v, p, 0, 0, t, grid5.g, False)\n",
    "    plt.plot([v, w], [p, q], color=\"black\", marker=\"o\")\n",
    "plt.show()"
   ]
  },
  {
   "cell_type": "code",
   "execution_count": 11,
   "metadata": {},
   "outputs": [],
   "source": [
    "# Thest the box function.\n",
    "# The bounds of the resulting square should contain the boxed point.\n",
    "grid2 = Grid(0.5, -9.81, -10, -10, 10, 10)\n",
    "\n",
    "for v in np.arange(-10, 10, 0.1):\n",
    "    for p in np.arange(-10, 10, 0.1):\n",
    "        square = grid2.box(v, p)\n",
    "        Ivl, Ivu, Ipl, Ipu = grid2.bounds(square)\n",
    "        assert(Ivl <= v)\n",
    "        assert(v < Ivu)\n",
    "        assert(Ipl <= p)\n",
    "        assert(p < Ipu)"
   ]
  },
  {
   "cell_type": "code",
   "execution_count": 12,
   "metadata": {},
   "outputs": [
    {
     "data": {
      "text/plain": [
       "<matplotlib.collections.PathCollection at 0x7f175928eb50>"
      ]
     },
     "execution_count": 12,
     "metadata": {},
     "output_type": "execute_result"
    },
    {
     "data": {
      "image/png": "[encoded data removed]",
      "text/plain": [
       "<Figure size 720x720 with 1 Axes>"
      ]
     },
     "metadata": {
      "needs_background": "light"
     },
     "output_type": "display_data"
    }
   ],
   "source": [
    "# Test that the grid draws correctly. All blue points should be drawn within their box. \n",
    "grid3 = Grid(0.5, -9.81, -10, 0, 10, 10)\n",
    "\n",
    "points = [(random.uniform(grid3.v_min, grid3.v_max), random.uniform(grid3.p_min, grid3.p_max)) for _ in range(20)]\n",
    "\n",
    "\n",
    "for v, p in points:\n",
    "    grid3[grid3.box(v, p)] = 2\n",
    "\n",
    "grid3.draw()\n",
    "plt.scatter([x for x, _ in points], [y for _, y in points])"
   ]
  },
  {
   "cell_type": "code",
   "execution_count": null,
   "metadata": {},
   "outputs": [
    {
     "name": "stdout",
     "output_type": "stream",
     "text": [
      "example_v, example_p = (2.2399943749463898, 1.2100142358819632)\n",
      "example_u, example_q = (-0.21250562505361037, 1.4634503296185606)\n",
      "\n",
      "square with bounds (2, 3, 1, 2)\n",
      "in time 0.25 goes to\n",
      "[(-1, 1), (-1, 2), (0, 1), (0, 2)]\n",
      "[(-1, 0, 1, 2), (-1, 0, 2, 3), (0, 1, 1, 2), (0, 1, 2, 3)]\n",
      "(-1, 0, 1, 2)\n",
      "(-1, 0, 2, 3)\n",
      "(0, 1, 1, 2)\n",
      "(0, 1, 2, 3)\n"
     ]
    },
    {
     "data": {
      "image/png": "[encoded data removed]",
      "text/plain": [
       "<Figure size 720x720 with 1 Axes>"
      ]
     },
     "metadata": {
      "needs_background": "light"
     },
     "output_type": "display_data"
    }
   ],
   "source": [
    "for _ in range(0, 100):\n",
    "    _ = input()\n",
    "    clear_output()\n",
    "    grid = Grid(1, -9.81, -10, 0, 10, 10)\n",
    "\n",
    "    #example_v, example_p = (-8.782178771683409, 2.2394383875364077)\n",
    "    example_v, example_p = random.uniform(grid.v_min, grid.v_max), random.uniform(grid.p_min, grid.p_max)\n",
    "    example_u, example_q = simulate_exact(example_v, example_p, 0, 0, t, grid.g, False)\n",
    "\n",
    "    print(f\"example_v, example_p = {example_v, example_p}\")\n",
    "    print(f\"example_u, example_q = {example_u, example_q}\\n\")\n",
    "\n",
    "    square = grid.box(example_v, example_p)\n",
    "    t = 0.25\n",
    "\n",
    "    print(f\"square with bounds {grid.bounds(square)}\")\n",
    "    print(f\"in time {t} goes to\")\n",
    "\n",
    "    new_squares = grid.transition(square, t)\n",
    "\n",
    "    print([grid.bounds(s) for s in new_squares])\n",
    "\n",
    "    Ivl, Ivu, Ipl, Ipu = grid.bounds(square)\n",
    "\n",
    "    grid[square] = 1\n",
    "\n",
    "    for s in new_squares:\n",
    "        grid[s] = 2\n",
    "        print(grid.bounds(s))\n",
    "\n",
    "    grid.draw()\n",
    "\n",
    "    plt.plot([example_v, example_u], [example_p, example_q])\n",
    "    plt.scatter([example_v], [example_p], marker=\"o\")\n",
    "    plt.show()"
   ]
  },
  {
   "cell_type": "code",
   "execution_count": null,
   "metadata": {},
   "outputs": [],
   "source": []
  }
 ],
 "metadata": {
  "kernelspec": {
   "display_name": "Python 3",
   "language": "python",
   "name": "python3"
  },
  "language_info": {
   "codemirror_mode": {
    "name": "ipython",
    "version": 3
   },
   "file_extension": ".py",
   "mimetype": "text/x-python",
   "name": "python",
   "nbconvert_exporter": "python",
   "pygments_lexer": "ipython3",
   "version": "3.8.10"
  }
 },
 "nbformat": 4,
 "nbformat_minor": 2
}
